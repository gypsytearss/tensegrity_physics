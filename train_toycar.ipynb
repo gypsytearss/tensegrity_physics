{
 "metadata": {
  "name": ""
 },
 "nbformat": 3,
 "nbformat_minor": 0,
 "worksheets": [
  {
   "cells": [
    {
     "cell_type": "code",
     "collapsed": false,
     "input": [
      "'''\n",
      "\n",
      "Requirements:\n",
      " - Caffe (script to install Caffe and pycaffe on a new Ubuntu 14.04 LTS x64 or Ubuntu 14.10 x64. \n",
      "   CPU only, multi-threaded Caffe. http://stackoverflow.com/a/31396229/395857)\n",
      " - sudo pip install pydot\n",
      " - sudo apt-get install -y graphviz\n",
      "\n",
      "Interesting resources on Caffe:\n",
      " - https://github.com/BVLC/caffe/tree/master/examples\n",
      " - http://nbviewer.ipython.org/github/joyofdata/joyofdata-articles/blob/master/deeplearning-with-caffe/Neural-Networks-with-Caffe-on-the-GPU.ipynb\n",
      "'''\n",
      "\n",
      "import subprocess\n",
      "import platform\n",
      "import copy\n",
      "\n",
      "# from sklearn.datasets import load_iris\n",
      "import sklearn.metrics \n",
      "import numpy as np\n",
      "from sklearn.cross_validation import StratifiedShuffleSplit\n",
      "import matplotlib.pyplot as plt\n",
      "import h5py\n",
      "import caffe\n",
      "import caffe.draw\n",
      "\n",
      "\n",
      "def load_data(lim=\"None\", size=1):\n",
      "    '''\n",
      "    Load Sample for Forward Pass from Toy Car Data set\n",
      "    '''\n",
      "    start_states, controls, durations, end_states = [], [], [], [] \n",
      "    \n",
      "    with open('../data_output_50Hz.txt', 'r') as infile:\n",
      "        data = infile.readlines()\n",
      "        \n",
      "        idx, i = 0, 0\n",
      "        \n",
      "        for line in data:\n",
      "            # Stop at end of file\n",
      "            if line == '':\n",
      "                break\n",
      "                \n",
      "            # Reset and continue at Trajectory break\n",
      "            if len(line) == 1:\n",
      "                start_states.pop()\n",
      "                if lim != \"None\":\n",
      "                    if idx > lim:\n",
      "                        break\n",
      "                i = 0\n",
      "                continue\n",
      "                \n",
      "            # Split Values in line and append to individual lists\n",
      "            vals = line.split(',')\n",
      "            if i % 3 == 0:\n",
      "                start_states.append([float(val) for val in vals])\n",
      "                if i != 0:\n",
      "                    end_states.append([float(val) for val in vals])\n",
      "                    idx += 1\n",
      "            elif i % 3 == 1:\n",
      "                controls.append([float(val) for val in vals])\n",
      "            elif i % 3 == 2:\n",
      "                durations.append([float(val) for val in vals])\n",
      "                \n",
      "            i += 1\n",
      "            \n",
      "    X = np.concatenate((start_states, controls, durations), axis=1)\n",
      "    y = np.asarray(end_states, dtype=np.float32)\n",
      "    \n",
      "    #Shuffle data points around\n",
      "#     indices = numpy.random.permutation(X.shape[0])\n",
      "    \n",
      "#     np.random.shuffle(X)\n",
      "#     np.random.shuffle(y)\n",
      "    \n",
      "    if lim != \"None\":\n",
      "        X = X[lim-size:lim,:]\n",
      "        y = y[lim-size:lim,:]\n",
      "        \n",
      "        #Resize\n",
      "        X = np.resize(X, (size,8))\n",
      "        y = np.resize(y, (size,5))\n",
      "                \n",
      "    return X, y\n",
      "\n",
      "def save_data_as_hdf5(hdf5_data_filename, data, labels):\n",
      "    '''\n",
      "    HDF5 is one of the data formats Caffe accepts\n",
      "    '''\n",
      "    with h5py.File(hdf5_data_filename, 'w') as f:\n",
      "        f['data'] = data.astype(np.float32)\n",
      "        f['label'] = labels.astype(np.float32)\n",
      "\n",
      "\n",
      "def train(solver_prototxt_filename):\n",
      "    '''\n",
      "    Train the ANN\n",
      "    '''\n",
      "    caffe.set_mode_gpu()\n",
      "    solver = caffe.get_solver(solver_prototxt_filename)\n",
      "    solver.solve()\n",
      "\n",
      "\n",
      "def print_network_parameters(net):\n",
      "    '''\n",
      "    Print the parameters of the network\n",
      "    '''\n",
      "    print(net)\n",
      "    print('net.inputs: {0}'.format(net.inputs))\n",
      "    print('net.outputs: {0}'.format(net.outputs))\n",
      "    print('net.blobs: {0}'.format(net.blobs))\n",
      "    print('net.params: {0}'.format(net.params))    \n",
      "\n",
      "def get_predicted_output(deploy_prototxt_filename, caffemodel_filename, input, net = None):\n",
      "    '''\n",
      "    Get the predicted output, i.e. perform a forward pass\n",
      "    '''\n",
      "    if net is None:\n",
      "        net = caffe.Net(deploy_prototxt_filename,caffemodel_filename, caffe.TEST)\n",
      "    \n",
      "    print \"Input: \"\n",
      "    print input \n",
      "    out = net.forward(data=input)\n",
      "    return out[net.outputs[0]]\n",
      "\n",
      "\n",
      "import google.protobuf \n",
      "def print_network(prototxt_filename, caffemodel_filename):\n",
      "    '''\n",
      "    Draw the ANN architecture\n",
      "    '''\n",
      "    _net = caffe.proto.caffe_pb2.NetParameter()\n",
      "    f = open(prototxt_filename)\n",
      "    google.protobuf.text_format.Merge(f.read(), _net)\n",
      "    caffe.draw.draw_net_to_file(_net, prototxt_filename + '.png' )\n",
      "    print('Draw ANN done!')\n",
      "\n",
      "\n",
      "def print_network_weights(prototxt_filename, caffemodel_filename):\n",
      "    '''\n",
      "    For each ANN layer, print weight heatmap and weight histogram \n",
      "    '''\n",
      "    net = caffe.Net(prototxt_filename,caffemodel_filename, caffe.TEST)\n",
      "    for layer_name in net.params: \n",
      "        # weights heatmap \n",
      "        arr = net.params[layer_name][0].data\n",
      "        plt.clf()\n",
      "        fig = plt.figure(figsize=(10,10))\n",
      "        ax = fig.add_subplot(111)\n",
      "        cax = ax.matshow(arr, interpolation='none')\n",
      "        fig.colorbar(cax, orientation=\"horizontal\")\n",
      "        plt.savefig('{0}_weights_{1}.png'.format(caffemodel_filename, layer_name), dpi=100, format='png', bbox_inches='tight') # use format='svg' or 'pdf' for vectorial pictures\n",
      "        plt.close()\n",
      "\n",
      "        # weights histogram  \n",
      "        plt.clf()\n",
      "        plt.hist(arr.tolist(), bins=20)\n",
      "        plt.savefig('{0}_weights_hist_{1}.png'.format(caffemodel_filename, layer_name), dpi=100, format='png', bbox_inches='tight') # use format='svg' or 'pdf' for vectorial pictures\n",
      "        plt.close()\n",
      "\n",
      "\n",
      "def get_predicted_outputs(deploy_prototxt_filename, caffemodel_filename, inputs):\n",
      "    '''\n",
      "    Get several predicted outputs\n",
      "    '''\n",
      "    outputs = []\n",
      "    net = caffe.Net(deploy_prototxt_filename,caffemodel_filename, caffe.TRAIN)\n",
      "    outputs.append(copy.deepcopy(get_predicted_output(deploy_prototxt_filename, caffemodel_filename, inputs, net)))\n",
      "    return outputs    \n",
      "\n",
      "\n",
      "def get_accuracy(true_outputs, predicted_outputs):\n",
      "    '''\n",
      "\n",
      "    '''\n",
      "    number_of_samples = true_outputs.shape[0]\n",
      "    number_of_outputs = true_outputs.shape[1]\n",
      "    threshold = 0.0 # 0 if SigmoidCrossEntropyLoss ; 0.5 if EuclideanLoss\n",
      "    for output_number in range(number_of_outputs):\n",
      "        predicted_output_binary = []\n",
      "        for sample_number in range(number_of_samples):\n",
      "            #print(predicted_outputs)\n",
      "            #print(predicted_outputs[sample_number][output_number])            \n",
      "            if predicted_outputs[sample_number][0][output_number] < threshold:\n",
      "                predicted_output = 0\n",
      "            else:\n",
      "                predicted_output = 1\n",
      "            predicted_output_binary.append(predicted_output)\n",
      "\n",
      "        print('accuracy: {0}'.format(sklearn.metrics.accuracy_score(true_outputs[:, output_number], predicted_output_binary)))\n",
      "        print(sklearn.metrics.confusion_matrix(true_outputs[:, output_number], predicted_output_binary))\n",
      "\n",
      "\n",
      "def training(model_iter):\n",
      "    '''\n",
      "    Performs Training of the specified network and outputs PNG images\n",
      "    showing resulting learned weights and histograms of weights\n",
      "    '''\n",
      "    # Set parameters\n",
      "    solver_prototxt_filename = 'toycar_solver.prototxt'\n",
      "    train_test_prototxt_filename = 'toycar_2fc_hdf5.prototxt'\n",
      "    caffemodel_filename = '2fc_iter_' + str(model_iter) + '.caffemodel' \n",
      "\n",
      "    # Train network\n",
      "    train(solver_prototxt_filename)\n",
      "\n",
      "    # Print network\n",
      "    print_network(train_test_prototxt_filename, caffemodel_filename)\n",
      "    print_network_weights(train_test_prototxt_filename, caffemodel_filename)\n",
      "\n",
      "\n",
      "def testing(idx=210):\n",
      "    '''\n",
      "    Performs Testing of the specified network\n",
      "    '''    \n",
      "    caffemodel_filename = '2fc_iter_101.caffemodel' # generated by train()   \n",
      "    deploy_prototxt_filename  = 'toycar_2fc_deploy.prototxt'\n",
      "    \n",
      "    # Prepare sample data\n",
      "    data, labels = load_data(idx, 10) \n",
      "    \n",
      "    X_mean = np.load('X_mean.npy')\n",
      "    data = data - X_mean\n",
      "    \n",
      "    # Compute performance metrics\n",
      "    inputs = data\n",
      "    outputs = get_predicted_outputs(deploy_prototxt_filename, caffemodel_filename, inputs)\n",
      "    \n",
      "    print 'predictions: '\n",
      "    print outputs[0]\n",
      "    \n",
      "    print 'ground truths: '\n",
      "    print labels\n"
     ],
     "language": "python",
     "metadata": {},
     "outputs": [],
     "prompt_number": 30
    },
    {
     "cell_type": "code",
     "collapsed": false,
     "input": [
      "data, labels = load_data()\n",
      "\n",
      "# mean substraction\n",
      "X_mean = np.load('X_mean.npy')\n",
      "# do not substract duration\n",
      "X_mean[7] = 0\n",
      "data = data - X_mean\n",
      "\n",
      "# Shuffle data points around\n",
      "indices = np.random.permutation(data.shape[0])\n",
      "data = data[indices,:]\n",
      "labels = labels[indices,:]\n",
      "\n"
     ],
     "language": "python",
     "metadata": {},
     "outputs": [],
     "prompt_number": 5
    },
    {
     "cell_type": "code",
     "collapsed": false,
     "input": [
      "data_bak = data\n",
      "labels_bak = labels"
     ],
     "language": "python",
     "metadata": {},
     "outputs": [],
     "prompt_number": 8
    },
    {
     "cell_type": "code",
     "collapsed": false,
     "input": [
      "data_bak.shape"
     ],
     "language": "python",
     "metadata": {},
     "outputs": [
      {
       "metadata": {},
       "output_type": "pyout",
       "prompt_number": 17,
       "text": [
        "(3746467, 8)"
       ]
      }
     ],
     "prompt_number": 17
    },
    {
     "cell_type": "code",
     "collapsed": false,
     "input": [
      "del data\n",
      "del labels"
     ],
     "language": "python",
     "metadata": {},
     "outputs": [
      {
       "ename": "NameError",
       "evalue": "name 'data' is not defined",
       "output_type": "pyerr",
       "traceback": [
        "\u001b[0;31m---------------------------------------------------------------------------\u001b[0m\n\u001b[0;31mNameError\u001b[0m                                 Traceback (most recent call last)",
        "\u001b[0;32m<ipython-input-18-ec3d0c324f89>\u001b[0m in \u001b[0;36m<module>\u001b[0;34m()\u001b[0m\n\u001b[0;32m----> 1\u001b[0;31m \u001b[0;32mdel\u001b[0m \u001b[0mdata\u001b[0m\u001b[0;34m\u001b[0m\u001b[0m\n\u001b[0m\u001b[1;32m      2\u001b[0m \u001b[0;32mdel\u001b[0m \u001b[0mlabels\u001b[0m\u001b[0;34m\u001b[0m\u001b[0m\n",
        "\u001b[0;31mNameError\u001b[0m: name 'data' is not defined"
       ]
      }
     ],
     "prompt_number": 18
    },
    {
     "cell_type": "code",
     "collapsed": false,
     "input": [
      "data = data_bak[:100,:] \n",
      "labels = labels_bak[:100,:] "
     ],
     "language": "python",
     "metadata": {},
     "outputs": [],
     "prompt_number": 19
    },
    {
     "cell_type": "code",
     "collapsed": false,
     "input": [
      "labels.shape"
     ],
     "language": "python",
     "metadata": {},
     "outputs": [
      {
       "metadata": {},
       "output_type": "pyout",
       "prompt_number": 21,
       "text": [
        "(100, 5)"
       ]
      }
     ],
     "prompt_number": 21
    },
    {
     "cell_type": "code",
     "collapsed": false,
     "input": [
      "save_data_as_hdf5('toycar_hdf5_100sample_data_random.hdf5', data, labels)"
     ],
     "language": "python",
     "metadata": {},
     "outputs": [],
     "prompt_number": 22
    },
    {
     "cell_type": "code",
     "collapsed": false,
     "input": [
      "data, labels = load_data()\n",
      "X_mean = np.mean(data, axis = 0)\n",
      "# do not substract duration\n",
      "X_mean[7] = 0\n",
      "data = data - X_mean\n",
      "# data_t = data/np.std(data, axis = 0)\n",
      "X_min = np.min(data, axis=0)\n",
      "X_max = np.max(data, axis=0)\n",
      "desiredMin = -1;\n",
      "desiredMax = 1;"
     ],
     "language": "python",
     "metadata": {},
     "outputs": [],
     "prompt_number": 12
    },
    {
     "cell_type": "code",
     "collapsed": false,
     "input": [
      "np.save('X_max.npy', X_max)"
     ],
     "language": "python",
     "metadata": {},
     "outputs": [],
     "prompt_number": 17
    },
    {
     "cell_type": "code",
     "collapsed": false,
     "input": [
      "X_min_n = np.load('X_min.npy')"
     ],
     "language": "python",
     "metadata": {},
     "outputs": [],
     "prompt_number": 14
    },
    {
     "cell_type": "code",
     "collapsed": false,
     "input": [
      "X_min"
     ],
     "language": "python",
     "metadata": {},
     "outputs": [
      {
       "metadata": {},
       "output_type": "pyout",
       "prompt_number": 16,
       "text": [
        "array([-4.15610902, -4.74230673, -2.70932937, -1.40825075, -0.59322983,\n",
        "       -1.04171293, -0.20028642,  0.02      ])"
       ]
      }
     ],
     "prompt_number": 16
    },
    {
     "cell_type": "code",
     "collapsed": false,
     "input": [
      "X_min_n"
     ],
     "language": "python",
     "metadata": {},
     "outputs": [
      {
       "metadata": {},
       "output_type": "pyout",
       "prompt_number": 15,
       "text": [
        "array([-4.15610902, -4.74230673, -2.70932937, -1.40825075, -0.59322983,\n",
        "       -1.04171293, -0.20028642,  0.02      ])"
       ]
      }
     ],
     "prompt_number": 15
    },
    {
     "cell_type": "code",
     "collapsed": false,
     "input": [
      "np.min(data, axis=0)"
     ],
     "language": "python",
     "metadata": {},
     "outputs": [
      {
       "metadata": {},
       "output_type": "pyout",
       "prompt_number": 142,
       "text": [
        "array([-4.15610902, -4.74230673, -2.70932937, -1.40825075, -0.59322983,\n",
        "       -1.04171293, -0.20028642,  0.02      ])"
       ]
      }
     ],
     "prompt_number": 142
    },
    {
     "cell_type": "code",
     "collapsed": false,
     "input": [
      "for i in range(0, 7):\n",
      "    data_t[:,i] = (data[:,i]-X_min[i])*(desiredMax-desiredMin)/(X_max[i]-X_min[i]) + desiredMin"
     ],
     "language": "python",
     "metadata": {},
     "outputs": [],
     "prompt_number": 143
    },
    {
     "cell_type": "code",
     "collapsed": false,
     "input": [
      "np.max(data_t,axis=0)"
     ],
     "language": "python",
     "metadata": {},
     "outputs": [
      {
       "metadata": {},
       "output_type": "pyout",
       "prompt_number": 146,
       "text": [
        "array([ 1.  ,  1.  ,  1.  ,  1.  ,  1.  ,  1.  ,  1.  ,  0.02])"
       ]
      }
     ],
     "prompt_number": 146
    },
    {
     "cell_type": "code",
     "collapsed": false,
     "input": [
      "data_t[:,7] = data[:,7]\n",
      "\n",
      "# Shuffle data points around\n",
      "indices = np.random.permutation(data.shape[0])\n",
      "training_idx, test_idx = indices[:3000000], indices[3000000:]\n",
      "\n",
      "train_data = data_t[training_idx,:]\n",
      "train_labels = labels[training_idx,:]\n",
      "\n",
      "save_data_as_hdf5('toycar_hdf5_data_random_norm11_train.hdf5', train_data, train_labels)\n",
      "\n",
      "test_data = data_t[test_idx,:]\n",
      "test_labels = labels[test_idx,:]\n",
      "\n",
      "save_data_as_hdf5('toycar_hdf5_data_random_norm11_test.hdf5', test_data, test_labels)"
     ],
     "language": "python",
     "metadata": {},
     "outputs": [],
     "prompt_number": 147
    },
    {
     "cell_type": "code",
     "collapsed": false,
     "input": [
      "test_data.shape"
     ],
     "language": "python",
     "metadata": {},
     "outputs": [
      {
       "metadata": {},
       "output_type": "pyout",
       "prompt_number": 116,
       "text": [
        "(746467, 8)"
       ]
      }
     ],
     "prompt_number": 116
    },
    {
     "cell_type": "code",
     "collapsed": false,
     "input": [
      "labels.shape"
     ],
     "language": "python",
     "metadata": {},
     "outputs": [
      {
       "metadata": {},
       "output_type": "pyout",
       "prompt_number": 104,
       "text": [
        "(3000000, 5)"
       ]
      }
     ],
     "prompt_number": 104
    },
    {
     "cell_type": "code",
     "collapsed": false,
     "input": [
      "np.max(data_t, axis=0)"
     ],
     "language": "python",
     "metadata": {},
     "outputs": [
      {
       "metadata": {},
       "output_type": "pyout",
       "prompt_number": 77,
       "text": [
        "array([ 3.84767775,  8.13704374,  6.61507798,  3.55404118,  3.20481089,\n",
        "        1.69913844,  1.73084925,  0.02      ])"
       ]
      }
     ],
     "prompt_number": 77
    },
    {
     "cell_type": "code",
     "collapsed": false,
     "input": [
      "np.min(data_t, axis=0)"
     ],
     "language": "python",
     "metadata": {},
     "outputs": [
      {
       "metadata": {},
       "output_type": "pyout",
       "prompt_number": 80,
       "text": [
        "array([ -2.52537614, -13.78119518, -10.79624864,  -1.93259152,\n",
        "        -3.17722605,  -1.84716844,  -1.73599389,   0.02      ])"
       ]
      }
     ],
     "prompt_number": 80
    },
    {
     "cell_type": "code",
     "collapsed": false,
     "input": [
      "np.max(data, axis=0)"
     ],
     "language": "python",
     "metadata": {},
     "outputs": [
      {
       "metadata": {},
       "output_type": "pyout",
       "prompt_number": 136,
       "text": [
        "array([-0.016796  ,  0.52267764,  0.69787066,  0.20471936,  1.67407906,\n",
        "        1.04176994,  5.00174279,         nan])"
       ]
      }
     ],
     "prompt_number": 136
    },
    {
     "cell_type": "code",
     "collapsed": false,
     "input": [
      "np.min(data, axis=0)"
     ],
     "language": "python",
     "metadata": {},
     "outputs": [
      {
       "metadata": {},
       "output_type": "pyout",
       "prompt_number": 137,
       "text": [
        "array([-0.3981704 , -0.00765894, -0.21758898, -0.79577393, -1.68272359,\n",
        "       -0.95828591, -4.99877487,         nan])"
       ]
      }
     ],
     "prompt_number": 137
    },
    {
     "cell_type": "code",
     "collapsed": false,
     "input": [
      "# \n",
      "print data.shape\n",
      "np.mean(data, axis=0)"
     ],
     "language": "python",
     "metadata": {},
     "outputs": [
      {
       "output_type": "stream",
       "stream": "stdout",
       "text": [
        "(3746467, 8)\n"
       ]
      },
      {
       "metadata": {},
       "output_type": "pyout",
       "prompt_number": 81,
       "text": [
        "array([ -2.77155025e-14,  -5.22033907e-15,   1.57145978e-15,\n",
        "         2.67213711e-14,   5.18563235e-16,  -1.61233702e-14,\n",
        "        -1.54880910e-16,   2.00000000e-02])"
       ]
      }
     ],
     "prompt_number": 81
    },
    {
     "cell_type": "code",
     "collapsed": false,
     "input": [
      "training(20000)"
     ],
     "language": "python",
     "metadata": {},
     "outputs": [
      {
       "output_type": "stream",
       "stream": "stdout",
       "text": [
        "Draw ANN done!\n"
       ]
      }
     ],
     "prompt_number": 31
    },
    {
     "cell_type": "code",
     "collapsed": false,
     "input": [
      "# data_test, labels_test = load_data(20000, 10)\n",
      "\n",
      "data, labels = load_data()\n",
      "\n",
      "# mean substraction\n",
      "X_mean = np.load('X_mean.npy')\n",
      "# do not substract duration\n",
      "X_mean[7] = 0\n",
      "data_t = data - X_mean\n",
      "\n",
      "indices = np.random.permutation(data_t.shape[0])\n",
      "test_idx = indices[:100000]\n",
      "data_test = data_t[test_idx,:]\n",
      "labels_test = labels[test_idx,:]\n",
      "\n",
      "X_min = np.load('X_min.npy')\n",
      "X_max = np.load('X_max.npy')\n",
      "\n",
      "desiredMin = -1;\n",
      "desiredMax = 1;\n",
      "\n",
      "for i in range(0, 7):\n",
      "    data_test[:,i] = (data_test[:,i]-X_min[i])*(desiredMax-desiredMin)/(X_max[i]-X_min[i]) + desiredMin"
     ],
     "language": "python",
     "metadata": {},
     "outputs": [],
     "prompt_number": 6
    },
    {
     "cell_type": "code",
     "collapsed": false,
     "input": [
      "X_mean"
     ],
     "language": "python",
     "metadata": {},
     "outputs": [
      {
       "metadata": {},
       "output_type": "pyout",
       "prompt_number": 7,
       "text": [
        "array([  6.77686160e-01,  -6.71038477e-02,  -5.98112174e-02,\n",
        "         4.08580666e-01,  -4.74019471e-03,   4.17476859e-02,\n",
        "         3.07068549e-04,   0.00000000e+00])"
       ]
      }
     ],
     "prompt_number": 7
    },
    {
     "cell_type": "code",
     "collapsed": false,
     "input": [
      "test_idx = indices[:1000]\n",
      "data_test = data_t[test_idx,:]\n",
      "labels_test = labels[test_idx,:]\n",
      "\n",
      "X_min = np.load('X_min.npy')\n",
      "X_max = np.load('X_max.npy')\n",
      "\n",
      "desiredMin = -1;\n",
      "desiredMax = 1;\n",
      "\n",
      "for i in range(0, 7):\n",
      "    data_test[:,i] = (data_test[:,i]-X_min[i])*(desiredMax-desiredMin)/(X_max[i]-X_min[i]) + desiredMin"
     ],
     "language": "python",
     "metadata": {},
     "outputs": [],
     "prompt_number": 15
    },
    {
     "cell_type": "code",
     "collapsed": false,
     "input": [
      "data_test.shape"
     ],
     "language": "python",
     "metadata": {},
     "outputs": [
      {
       "metadata": {},
       "output_type": "pyout",
       "prompt_number": 32,
       "text": [
        "(1000, 8)"
       ]
      }
     ],
     "prompt_number": 32
    },
    {
     "cell_type": "code",
     "collapsed": false,
     "input": [
      "out = get_predicted_outputs('toycar_2fc_deploy.prototxt', '2fc_iter_20000.caffemodel', data_test)\n",
      "print out\n",
      "print labels_test"
     ],
     "language": "python",
     "metadata": {},
     "outputs": [
      {
       "output_type": "stream",
       "stream": "stdout",
       "text": [
        "Input: \n",
        "[[-0.06740652  0.24993942  0.17815755 ...,  0.38464517  0.93869677  0.02      ]\n",
        " [-0.23742786  0.27876404  0.28633292 ...,  0.72695649 -0.44948112  0.02      ]\n",
        " [-0.57600161  0.29037723  0.2209564  ...,  0.19357049  0.56439222  0.02      ]\n",
        " ..., \n",
        " [ 0.02430095  0.24126112  0.23502558 ...,  0.20941256 -0.60033215  0.02      ]\n",
        " [-0.29461423  0.27253228  0.25703434 ...,  0.11751923 -0.96306215  0.02      ]\n",
        " [-0.0823467   0.28645415  0.31771148 ..., -0.67573322 -0.71909723  0.02      ]]\n",
        "[array([[ 1.42300117, -0.09153307, -0.20040639,  0.67972767, -0.20489192],\n",
        "       [ 0.53247488,  0.01922716,  0.04417145,  0.39601657, -0.01404924],\n",
        "       [-1.25410438,  0.05459632, -0.10624649,  0.04396743,  0.03625307],\n",
        "       ..., \n",
        "       [ 1.92496884, -0.12909172, -0.07161905,  1.19144964,  0.01541885],\n",
        "       [ 0.21497917, -0.00378898, -0.0157292 , -0.04762249, -0.18083008],\n",
        "       [ 1.33387113,  0.04207443,  0.11392213, -0.17314164,  0.08385028]], dtype=float32)]\n",
        "[[ 1.42529142 -0.09824116 -0.19801152  0.68252897 -0.20470804]\n",
        " [ 0.52840263  0.01337014  0.04100596  0.39643702 -0.01373177]\n",
        " [-1.25412667  0.05676883 -0.10169611  0.04087467  0.03661609]\n",
        " ..., \n",
        " [ 1.9169116  -0.13006088 -0.07061984  1.19082737  0.01402786]\n",
        " [ 0.21978584 -0.01042739 -0.0227289  -0.04785789 -0.18114455]\n",
        " [ 1.33078897  0.0417075   0.1093916  -0.16622505  0.08222444]]\n"
       ]
      }
     ],
     "prompt_number": 33
    },
    {
     "cell_type": "code",
     "collapsed": false,
     "input": [
      "myarray = np.asarray(out)\n",
      "result = labels_test-myarray\n",
      "\n",
      "temp =  np.sqrt(np.sum(np.square(result), axis=2))\n",
      "temp2 = np.sum(temp,axis=1)/20000"
     ],
     "language": "python",
     "metadata": {},
     "outputs": [],
     "prompt_number": 34
    },
    {
     "cell_type": "code",
     "collapsed": false,
     "input": [
      "temp.shape"
     ],
     "language": "python",
     "metadata": {},
     "outputs": [
      {
       "metadata": {},
       "output_type": "pyout",
       "prompt_number": 22,
       "text": [
        "(1, 1000)"
       ]
      }
     ],
     "prompt_number": 22
    },
    {
     "cell_type": "code",
     "collapsed": false,
     "input": [
      "temp2"
     ],
     "language": "python",
     "metadata": {},
     "outputs": [
      {
       "metadata": {},
       "output_type": "pyout",
       "prompt_number": 35,
       "text": [
        "array([ 0.00033777], dtype=float32)"
       ]
      }
     ],
     "prompt_number": 35
    },
    {
     "cell_type": "code",
     "collapsed": false,
     "input": [
      "train_test_prototxt_filename = 'toycar_2fc_hdf5.prototxt'\n",
      "deploy_prototxt_filename  = 'toycar_2fc_deploy.prototxt'\n",
      "caffemodel_filename = '2fc_iter_100001.caffemodel' # generated by train() \n",
      "net = caffe.Net(train_test_prototxt_filename,caffemodel_filename, caffe.TEST)"
     ],
     "language": "python",
     "metadata": {},
     "outputs": [],
     "prompt_number": 28
    },
    {
     "cell_type": "code",
     "collapsed": false,
     "input": [
      "data, labels = load_data(200)\n",
      "data = np.resize(data, (10,8))\n",
      "labels = np.resize(labels, (10,5))\n",
      "\n",
      "net.blobs['data'].data[...] = data\n",
      "net.blobs['label'].data[...] = labels\n",
      "# net.blobs['label'].data[...] = labels"
     ],
     "language": "python",
     "metadata": {},
     "outputs": [],
     "prompt_number": 29
    },
    {
     "cell_type": "code",
     "collapsed": false,
     "input": [
      "testing(1000)"
     ],
     "language": "python",
     "metadata": {},
     "outputs": [
      {
       "output_type": "stream",
       "stream": "stdout",
       "text": [
        "Input: \n",
        "[[  1.30741967e-02   4.49452572e-06   8.59992945e-04   5.07222193e-02\n",
        "    9.44632162e-02   1.94149465e-01   1.17196867e-01   2.00000000e-02]]\n",
        "predictions: \n",
        "[[ 0.68539578 -0.06810683 -0.06026677  0.40926152 -0.00472403]]\n",
        "ground truths: \n",
        "[[  8.88240524e-03   1.11544739e-06   3.17442784e-04   3.08281556e-02\n",
        "    5.37478551e-02]]\n"
       ]
      }
     ],
     "prompt_number": 68
    },
    {
     "cell_type": "code",
     "collapsed": false,
     "input": [
      "print out"
     ],
     "language": "python",
     "metadata": {},
     "outputs": [
      {
       "output_type": "stream",
       "stream": "stdout",
       "text": [
        "{'loss': array(0.2908742129802704, dtype=float32)}\n"
       ]
      }
     ],
     "prompt_number": 31
    },
    {
     "cell_type": "code",
     "collapsed": false,
     "input": [
      "print labels"
     ],
     "language": "python",
     "metadata": {},
     "outputs": [
      {
       "output_type": "stream",
       "stream": "stdout",
       "text": [
        "[[  8.65216926e-02  -9.63747734e-05  -2.82733259e-03   4.15553898e-01\n",
        "   -4.92097959e-02]\n",
        " [  8.65216926e-02  -9.63747734e-05  -2.82733259e-03   4.15553898e-01\n",
        "   -4.92097959e-02]\n",
        " [  8.65216926e-02  -9.63747734e-05  -2.82733259e-03   4.15553898e-01\n",
        "   -4.92097959e-02]\n",
        " [  8.65216926e-02  -9.63747734e-05  -2.82733259e-03   4.15553898e-01\n",
        "   -4.92097959e-02]\n",
        " [  8.65216926e-02  -9.63747734e-05  -2.82733259e-03   4.15553898e-01\n",
        "   -4.92097959e-02]\n",
        " [  8.65216926e-02  -9.63747734e-05  -2.82733259e-03   4.15553898e-01\n",
        "   -4.92097959e-02]\n",
        " [  8.65216926e-02  -9.63747734e-05  -2.82733259e-03   4.15553898e-01\n",
        "   -4.92097959e-02]\n",
        " [  8.65216926e-02  -9.63747734e-05  -2.82733259e-03   4.15553898e-01\n",
        "   -4.92097959e-02]\n",
        " [  8.65216926e-02  -9.63747734e-05  -2.82733259e-03   4.15553898e-01\n",
        "   -4.92097959e-02]\n",
        " [  8.65216926e-02  -9.63747734e-05  -2.82733259e-03   4.15553898e-01\n",
        "   -4.92097959e-02]]\n"
       ]
      }
     ],
     "prompt_number": 32
    },
    {
     "cell_type": "code",
     "collapsed": false,
     "input": [
      "print net.blobs['fc3'].data"
     ],
     "language": "python",
     "metadata": {},
     "outputs": [
      {
       "output_type": "stream",
       "stream": "stdout",
       "text": [
        "[[ 0.65492922  0.03098195  0.02302835  0.32466719  0.04038212]\n",
        " [ 0.65492922  0.03098195  0.02302835  0.32466719  0.04038212]\n",
        " [ 0.65492922  0.03098195  0.02302835  0.32466719  0.04038212]\n",
        " [ 0.65492922  0.03098195  0.02302835  0.32466719  0.04038212]\n",
        " [ 0.65492922  0.03098195  0.02302835  0.32466719  0.04038212]\n",
        " [ 0.65492922  0.03098195  0.02302835  0.32466719  0.04038212]\n",
        " [ 0.65492922  0.03098195  0.02302835  0.32466719  0.04038212]\n",
        " [ 0.65492922  0.03098195  0.02302835  0.32466719  0.04038212]\n",
        " [ 0.65492922  0.03098195  0.02302835  0.32466719  0.04038212]\n",
        " [ 0.65492922  0.03098195  0.02302835  0.32466719  0.04038212]]\n"
       ]
      }
     ],
     "prompt_number": 33
    },
    {
     "cell_type": "code",
     "collapsed": false,
     "input": [
      "print data"
     ],
     "language": "python",
     "metadata": {},
     "outputs": [
      {
       "output_type": "stream",
       "stream": "stdout",
       "text": [
        "[[[[  0.00000000e+00]]\n",
        "\n",
        "  [[  0.00000000e+00]]\n",
        "\n",
        "  [[  0.00000000e+00]]\n",
        "\n",
        "  [[  0.00000000e+00]]\n",
        "\n",
        "  [[  0.00000000e+00]]\n",
        "\n",
        "  [[ -4.99790647e-01]]\n",
        "\n",
        "  [[  2.39952491e-02]]\n",
        "\n",
        "  [[  2.00000000e-02]]]\n",
        "\n",
        "\n",
        " [[[ -8.32984387e-05]]\n",
        "\n",
        "  [[  5.99378961e-13]]\n",
        "\n",
        "  [[ -1.99876682e-08]]\n",
        "\n",
        "  [[ -9.99581294e-03]]\n",
        "\n",
        "  [[  4.79904982e-04]]\n",
        "\n",
        "  [[ -4.99790647e-01]]\n",
        "\n",
        "  [[  2.39952491e-02]]\n",
        "\n",
        "  [[  2.00000000e-02]]]\n",
        "\n",
        "\n",
        " [[[ -3.66513070e-04]]\n",
        "\n",
        "  [[  2.72384365e-11]]\n",
        "\n",
        "  [[ -2.15866803e-07]]\n",
        "\n",
        "  [[ -1.99916259e-02]]\n",
        "\n",
        "  [[  9.59809963e-04]]\n",
        "\n",
        "  [[ -4.99790647e-01]]\n",
        "\n",
        "  [[  2.39952491e-02]]\n",
        "\n",
        "  [[  2.00000000e-02]]]\n",
        "\n",
        "\n",
        " [[[ -8.49643698e-04]]\n",
        "\n",
        "  [[  2.38419453e-10]]\n",
        "\n",
        "  [[ -7.79518923e-07]]\n",
        "\n",
        "  [[ -2.99874388e-02]]\n",
        "\n",
        "  [[  1.43971494e-03]]\n",
        "\n",
        "  [[ -4.99790647e-01]]\n",
        "\n",
        "  [[  2.39952491e-02]]\n",
        "\n",
        "  [[  2.00000000e-02]]]\n",
        "\n",
        "\n",
        " [[[ -1.53268999e-03]]\n",
        "\n",
        "  [[  1.07714906e-09]]\n",
        "\n",
        "  [[ -1.90282538e-06]]\n",
        "\n",
        "  [[ -3.99832517e-02]]\n",
        "\n",
        "  [[  1.91961993e-03]]\n",
        "\n",
        "  [[ -4.99790647e-01]]\n",
        "\n",
        "  [[  2.39952491e-02]]\n",
        "\n",
        "  [[  2.00000000e-02]]]\n",
        "\n",
        "\n",
        " [[[ -2.41565147e-03]]\n",
        "\n",
        "  [[  3.42437735e-09]]\n",
        "\n",
        "  [[ -3.77766726e-06]]\n",
        "\n",
        "  [[ -4.99790647e-02]]\n",
        "\n",
        "  [[  2.39952491e-03]]\n",
        "\n",
        "  [[ -4.99790647e-01]]\n",
        "\n",
        "  [[  2.39952491e-02]]\n",
        "\n",
        "  [[  2.00000000e-02]]]\n",
        "\n",
        "\n",
        " [[[ -3.49852754e-03]]\n",
        "\n",
        "  [[  8.75243516e-09]]\n",
        "\n",
        "  [[ -6.59592532e-06]]\n",
        "\n",
        "  [[ -5.99748776e-02]]\n",
        "\n",
        "  [[  2.87942989e-03]]\n",
        "\n",
        "  [[ -4.99790647e-01]]\n",
        "\n",
        "  [[  2.39952491e-02]]\n",
        "\n",
        "  [[  2.00000000e-02]]]\n",
        "\n",
        "\n",
        " [[[ -4.78131743e-03]]\n",
        "\n",
        "  [[  1.92784689e-08]]\n",
        "\n",
        "  [[ -1.05494799e-05]]\n",
        "\n",
        "  [[ -6.99706906e-02]]\n",
        "\n",
        "  [[  3.35933487e-03]]\n",
        "\n",
        "  [[ -4.99790647e-01]]\n",
        "\n",
        "  [[  2.39952491e-02]]\n",
        "\n",
        "  [[  2.00000000e-02]]]\n",
        "\n",
        "\n",
        " [[[ -6.26402027e-03]]\n",
        "\n",
        "  [[  3.81178723e-08]]\n",
        "\n",
        "  [[ -1.58302107e-05]]\n",
        "\n",
        "  [[ -7.99665035e-02]]\n",
        "\n",
        "  [[  3.83923985e-03]]\n",
        "\n",
        "  [[ -4.99790647e-01]]\n",
        "\n",
        "  [[  2.39952491e-02]]\n",
        "\n",
        "  [[  2.00000000e-02]]]\n",
        "\n",
        "\n",
        " [[[ -7.94663504e-03]]\n",
        "\n",
        "  [[  6.94377142e-08]]\n",
        "\n",
        "  [[ -2.26299969e-05]]\n",
        "\n",
        "  [[ -8.99623164e-02]]\n",
        "\n",
        "  [[  4.31914483e-03]]\n",
        "\n",
        "  [[ -4.99790647e-01]]\n",
        "\n",
        "  [[  2.39952491e-02]]\n",
        "\n",
        "  [[  2.00000000e-02]]]]\n"
       ]
      }
     ],
     "prompt_number": 45
    },
    {
     "cell_type": "code",
     "collapsed": false,
     "input": [],
     "language": "python",
     "metadata": {},
     "outputs": []
    }
   ],
   "metadata": {}
  }
 ]
}