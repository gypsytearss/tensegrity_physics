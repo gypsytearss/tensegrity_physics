{
 "metadata": {
  "name": ""
 },
 "nbformat": 3,
 "nbformat_minor": 0,
 "worksheets": [
  {
   "cells": [
    {
     "cell_type": "code",
     "collapsed": false,
     "input": [
      "'''\n",
      "\n",
      "Requirements:\n",
      " - Caffe (script to install Caffe and pycaffe on a new Ubuntu 14.04 LTS x64 or Ubuntu 14.10 x64. \n",
      "   CPU only, multi-threaded Caffe. http://stackoverflow.com/a/31396229/395857)\n",
      " - sudo pip install pydot\n",
      " - sudo apt-get install -y graphviz\n",
      "\n",
      "Interesting resources on Caffe:\n",
      " - https://github.com/BVLC/caffe/tree/master/examples\n",
      " - http://nbviewer.ipython.org/github/joyofdata/joyofdata-articles/blob/master/deeplearning-with-caffe/Neural-Networks-with-Caffe-on-the-GPU.ipynb\n",
      "'''\n",
      "\n",
      "import subprocess\n",
      "import platform\n",
      "import copy\n",
      "\n",
      "# from sklearn.datasets import load_iris\n",
      "import sklearn.metrics \n",
      "import numpy as np\n",
      "from sklearn.cross_validation import StratifiedShuffleSplit\n",
      "import matplotlib.pyplot as plt\n",
      "import h5py\n",
      "import caffe\n",
      "import caffe.draw\n",
      "\n",
      "\n",
      "def load_data(lim=\"None\", size=1):\n",
      "    '''\n",
      "    Load Sample for Forward Pass from Toy Car Data set\n",
      "    '''\n",
      "    start_states, controls, durations, end_states = [], [], [], [] \n",
      "    \n",
      "    with open('../data_output_50Hz.txt', 'r') as infile:\n",
      "        data = infile.readlines()\n",
      "        \n",
      "        idx, i = 0, 0\n",
      "        \n",
      "        for line in data:\n",
      "            # Stop at end of file\n",
      "            if line == '':\n",
      "                break\n",
      "                \n",
      "            # Reset and continue at Trajectory break\n",
      "            if len(line) == 1:\n",
      "                start_states.pop()\n",
      "                if lim != \"None\":\n",
      "                    if idx > lim:\n",
      "                        break\n",
      "                i = 0\n",
      "                continue\n",
      "                \n",
      "            # Split Values in line and append to individual lists\n",
      "            vals = line.split(',')\n",
      "            if i % 3 == 0:\n",
      "                start_states.append([float(val) for val in vals])\n",
      "                if i != 0:\n",
      "                    end_states.append([float(val) for val in vals])\n",
      "                    idx += 1\n",
      "            elif i % 3 == 1:\n",
      "                controls.append([float(val) for val in vals])\n",
      "            elif i % 3 == 2:\n",
      "                durations.append([float(val) for val in vals])\n",
      "                \n",
      "            i += 1\n",
      "            \n",
      "    X = np.concatenate((start_states, controls, durations), axis=1)\n",
      "    y = np.asarray(end_states, dtype=np.float32)\n",
      "    \n",
      "    #Shuffle data points around\n",
      "#     indices = numpy.random.permutation(X.shape[0])\n",
      "    \n",
      "#     np.random.shuffle(X)\n",
      "#     np.random.shuffle(y)\n",
      "    \n",
      "    if lim != \"None\":\n",
      "        X = X[lim-size:lim,:]\n",
      "        y = y[lim-size:lim,:]\n",
      "        \n",
      "        #Resize\n",
      "        X = np.resize(X, (size,8))\n",
      "        y = np.resize(y, (size,5))\n",
      "                \n",
      "    return X, y\n",
      "\n",
      "def save_data_as_hdf5(hdf5_data_filename, data, labels):\n",
      "    '''\n",
      "    HDF5 is one of the data formats Caffe accepts\n",
      "    '''\n",
      "    with h5py.File(hdf5_data_filename, 'w') as f:\n",
      "        f['data'] = data.astype(np.float32)\n",
      "        f['label'] = labels.astype(np.float32)\n",
      "\n",
      "\n",
      "def train(solver_prototxt_filename):\n",
      "    '''\n",
      "    Train the ANN\n",
      "    '''\n",
      "    caffe.set_mode_gpu()\n",
      "    solver = caffe.get_solver(solver_prototxt_filename)\n",
      "    solver.solve()\n",
      "\n",
      "\n",
      "def print_network_parameters(net):\n",
      "    '''\n",
      "    Print the parameters of the network\n",
      "    '''\n",
      "    print(net)\n",
      "    print('net.inputs: {0}'.format(net.inputs))\n",
      "    print('net.outputs: {0}'.format(net.outputs))\n",
      "    print('net.blobs: {0}'.format(net.blobs))\n",
      "    print('net.params: {0}'.format(net.params))    \n",
      "\n",
      "def get_predicted_output(deploy_prototxt_filename, caffemodel_filename, input, net = None):\n",
      "    '''\n",
      "    Get the predicted output, i.e. perform a forward pass\n",
      "    '''\n",
      "    if net is None:\n",
      "        net = caffe.Net(deploy_prototxt_filename,caffemodel_filename, caffe.TEST)\n",
      "    \n",
      "    print \"Input: \"\n",
      "    print input \n",
      "    out = net.forward(data=input)\n",
      "    return out[net.outputs[0]]\n",
      "\n",
      "\n",
      "import google.protobuf \n",
      "def print_network(prototxt_filename, caffemodel_filename):\n",
      "    '''\n",
      "    Draw the ANN architecture\n",
      "    '''\n",
      "    _net = caffe.proto.caffe_pb2.NetParameter()\n",
      "    f = open(prototxt_filename)\n",
      "    google.protobuf.text_format.Merge(f.read(), _net)\n",
      "    caffe.draw.draw_net_to_file(_net, prototxt_filename + '.png' )\n",
      "    print('Draw ANN done!')\n",
      "\n",
      "\n",
      "def print_network_weights(prototxt_filename, caffemodel_filename):\n",
      "    '''\n",
      "    For each ANN layer, print weight heatmap and weight histogram \n",
      "    '''\n",
      "    net = caffe.Net(prototxt_filename,caffemodel_filename, caffe.TEST)\n",
      "    for layer_name in net.params: \n",
      "        # weights heatmap \n",
      "        arr = net.params[layer_name][0].data\n",
      "        plt.clf()\n",
      "        fig = plt.figure(figsize=(10,10))\n",
      "        ax = fig.add_subplot(111)\n",
      "        cax = ax.matshow(arr, interpolation='none')\n",
      "        fig.colorbar(cax, orientation=\"horizontal\")\n",
      "        plt.savefig('{0}_weights_{1}.png'.format(caffemodel_filename, layer_name), dpi=100, format='png', bbox_inches='tight') # use format='svg' or 'pdf' for vectorial pictures\n",
      "        plt.close()\n",
      "\n",
      "        # weights histogram  \n",
      "        plt.clf()\n",
      "        plt.hist(arr.tolist(), bins=20)\n",
      "        plt.savefig('{0}_weights_hist_{1}.png'.format(caffemodel_filename, layer_name), dpi=100, format='png', bbox_inches='tight') # use format='svg' or 'pdf' for vectorial pictures\n",
      "        plt.close()\n",
      "\n",
      "\n",
      "def get_predicted_outputs(deploy_prototxt_filename, caffemodel_filename, inputs):\n",
      "    '''\n",
      "    Get several predicted outputs\n",
      "    '''\n",
      "    outputs = []\n",
      "    net = caffe.Net(deploy_prototxt_filename,caffemodel_filename, caffe.TRAIN)\n",
      "    outputs.append(copy.deepcopy(get_predicted_output(deploy_prototxt_filename, caffemodel_filename, inputs, net)))\n",
      "    return outputs    \n",
      "\n",
      "\n",
      "def get_accuracy(true_outputs, predicted_outputs):\n",
      "    '''\n",
      "\n",
      "    '''\n",
      "    number_of_samples = true_outputs.shape[0]\n",
      "    number_of_outputs = true_outputs.shape[1]\n",
      "    threshold = 0.0 # 0 if SigmoidCrossEntropyLoss ; 0.5 if EuclideanLoss\n",
      "    for output_number in range(number_of_outputs):\n",
      "        predicted_output_binary = []\n",
      "        for sample_number in range(number_of_samples):\n",
      "            #print(predicted_outputs)\n",
      "            #print(predicted_outputs[sample_number][output_number])            \n",
      "            if predicted_outputs[sample_number][0][output_number] < threshold:\n",
      "                predicted_output = 0\n",
      "            else:\n",
      "                predicted_output = 1\n",
      "            predicted_output_binary.append(predicted_output)\n",
      "\n",
      "        print('accuracy: {0}'.format(sklearn.metrics.accuracy_score(true_outputs[:, output_number], predicted_output_binary)))\n",
      "        print(sklearn.metrics.confusion_matrix(true_outputs[:, output_number], predicted_output_binary))\n",
      "\n",
      "\n",
      "def training(model_iter):\n",
      "    '''\n",
      "    Performs Training of the specified network and outputs PNG images\n",
      "    showing resulting learned weights and histograms of weights\n",
      "    '''\n",
      "    # Set parameters\n",
      "    solver_prototxt_filename = 'toycar_solver.prototxt'\n",
      "    train_test_prototxt_filename = 'toycar_2fc_hdf5.prototxt'\n",
      "    caffemodel_filename = '2fc_iter_' + str(model_iter) + '.caffemodel' \n",
      "\n",
      "    # Train network\n",
      "    train(solver_prototxt_filename)\n",
      "\n",
      "    # Print network\n",
      "    print_network(train_test_prototxt_filename, caffemodel_filename)\n",
      "    print_network_weights(train_test_prototxt_filename, caffemodel_filename)\n",
      "\n",
      "\n",
      "def testing(idx=210):\n",
      "    '''\n",
      "    Performs Testing of the specified network\n",
      "    '''    \n",
      "    caffemodel_filename = '2fc_iter_101.caffemodel' # generated by train()   \n",
      "    deploy_prototxt_filename  = 'toycar_2fc_deploy.prototxt'\n",
      "    \n",
      "    # Prepare sample data\n",
      "    data, labels = load_data(idx, 10) \n",
      "    \n",
      "    X_mean = np.load('X_mean.npy')\n",
      "    data = data - X_mean\n",
      "    \n",
      "    # Compute performance metrics\n",
      "    inputs = data\n",
      "    outputs = get_predicted_outputs(deploy_prototxt_filename, caffemodel_filename, inputs)\n",
      "    \n",
      "    print 'predictions: '\n",
      "    print outputs[0]\n",
      "    \n",
      "    print 'ground truths: '\n",
      "    print labels\n"
     ],
     "language": "python",
     "metadata": {},
     "outputs": [],
     "prompt_number": 1
    },
    {
     "cell_type": "code",
     "collapsed": false,
     "input": [
      "outputs = []\n",
      "train_test_prototxt_filename = 'toycar_2fc_hdf5.prototxt'\n",
      "caffemodel_filename = '2fc_iter_100000.caffemodel'\n",
      "net = caffe.Net(train_test_prototxt_filename,caffemodel_filename, caffe.TEST)\n",
      "        outputs.append(copy.deepcopy(get_predicted_output(train_test_prototxt_filename, caffemodel_filename, inputs, net)))"
     ],
     "language": "python",
     "metadata": {},
     "outputs": [
      {
       "ename": "NameError",
       "evalue": "name 'inputs' is not defined",
       "output_type": "pyerr",
       "traceback": [
        "\u001b[0;31m---------------------------------------------------------------------------\u001b[0m\n\u001b[0;31mNameError\u001b[0m                                 Traceback (most recent call last)",
        "\u001b[0;32m<ipython-input-114-bfbe22c1c0b9>\u001b[0m in \u001b[0;36m<module>\u001b[0;34m()\u001b[0m\n\u001b[1;32m      3\u001b[0m \u001b[0mcaffemodel_filename\u001b[0m \u001b[0;34m=\u001b[0m \u001b[0;34m'2fc_iter_100000.caffemodel'\u001b[0m\u001b[0;34m\u001b[0m\u001b[0m\n\u001b[1;32m      4\u001b[0m \u001b[0mnet\u001b[0m \u001b[0;34m=\u001b[0m \u001b[0mcaffe\u001b[0m\u001b[0;34m.\u001b[0m\u001b[0mNet\u001b[0m\u001b[0;34m(\u001b[0m\u001b[0mtrain_test_prototxt_filename\u001b[0m\u001b[0;34m,\u001b[0m\u001b[0mcaffemodel_filename\u001b[0m\u001b[0;34m,\u001b[0m \u001b[0mcaffe\u001b[0m\u001b[0;34m.\u001b[0m\u001b[0mTEST\u001b[0m\u001b[0;34m)\u001b[0m\u001b[0;34m\u001b[0m\u001b[0m\n\u001b[0;32m----> 5\u001b[0;31m \u001b[0moutputs\u001b[0m\u001b[0;34m.\u001b[0m\u001b[0mappend\u001b[0m\u001b[0;34m(\u001b[0m\u001b[0mcopy\u001b[0m\u001b[0;34m.\u001b[0m\u001b[0mdeepcopy\u001b[0m\u001b[0;34m(\u001b[0m\u001b[0mget_predicted_output\u001b[0m\u001b[0;34m(\u001b[0m\u001b[0mtrain_test_prototxt_filename\u001b[0m\u001b[0;34m,\u001b[0m \u001b[0mcaffemodel_filename\u001b[0m\u001b[0;34m,\u001b[0m \u001b[0minputs\u001b[0m\u001b[0;34m,\u001b[0m \u001b[0mnet\u001b[0m\u001b[0;34m)\u001b[0m\u001b[0;34m)\u001b[0m\u001b[0;34m)\u001b[0m\u001b[0;34m\u001b[0m\u001b[0m\n\u001b[0m",
        "\u001b[0;31mNameError\u001b[0m: name 'inputs' is not defined"
       ]
      }
     ],
     "prompt_number": 114
    },
    {
     "cell_type": "code",
     "collapsed": false,
     "input": [
      "data, labels = load_data()\n",
      "\n",
      "# mean substraction\n",
      "X_mean = np.load('X_mean.npy')\n",
      "# do not substract duration\n",
      "X_mean[7] = 0\n",
      "data = data - X_mean\n",
      "\n",
      "# Shuffle data points around\n",
      "indices = np.random.permutation(data.shape[0])\n",
      "data = data[indices,:]\n",
      "labels = labels[indices,:]\n",
      "\n",
      "save_data_as_hdf5('toycar_hdf5_data_random.hdf5', data, labels)"
     ],
     "language": "python",
     "metadata": {},
     "outputs": [],
     "prompt_number": 60
    },
    {
     "cell_type": "code",
     "collapsed": false,
     "input": [
      "data, labels = load_data()\n",
      "X_mean = np.mean(data, axis = 0)\n",
      "# do not substract duration\n",
      "X_mean[7] = 0\n",
      "data = data - X_mean\n",
      "data_t = data/np.std(data, axis = 0)\n",
      "data_t[:,7] = data[:,7]\n",
      "\n",
      "# Shuffle data points around\n",
      "indices = np.random.permutation(data.shape[0])\n",
      "training_idx, test_idx = indices[:3000000], indices[3000000:]\n",
      "\n",
      "train_data = data_t[training_idx,:]\n",
      "train_labels = labels[training_idx,:]\n",
      "\n",
      "save_data_as_hdf5('toycar_hdf5_data_random_norm_train.hdf5', train_data, train_labels)\n",
      "\n",
      "test_data = data_t[test_idx,:]\n",
      "test_labels = labels[test_idx,:]\n",
      "\n",
      "save_data_as_hdf5('toycar_hdf5_data_random_norm_test.hdf5', test_data, test_labels)"
     ],
     "language": "python",
     "metadata": {},
     "outputs": [],
     "prompt_number": 105
    },
    {
     "cell_type": "code",
     "collapsed": false,
     "input": [
      "test_data.shape"
     ],
     "language": "python",
     "metadata": {},
     "outputs": [
      {
       "metadata": {},
       "output_type": "pyout",
       "prompt_number": 116,
       "text": [
        "(746467, 8)"
       ]
      }
     ],
     "prompt_number": 116
    },
    {
     "cell_type": "code",
     "collapsed": false,
     "input": [
      "labels.shape"
     ],
     "language": "python",
     "metadata": {},
     "outputs": [
      {
       "metadata": {},
       "output_type": "pyout",
       "prompt_number": 104,
       "text": [
        "(3000000, 5)"
       ]
      }
     ],
     "prompt_number": 104
    },
    {
     "cell_type": "code",
     "collapsed": false,
     "input": [
      "np.max(data_t, axis=0)"
     ],
     "language": "python",
     "metadata": {},
     "outputs": [
      {
       "metadata": {},
       "output_type": "pyout",
       "prompt_number": 77,
       "text": [
        "array([ 3.84767775,  8.13704374,  6.61507798,  3.55404118,  3.20481089,\n",
        "        1.69913844,  1.73084925,  0.02      ])"
       ]
      }
     ],
     "prompt_number": 77
    },
    {
     "cell_type": "code",
     "collapsed": false,
     "input": [
      "np.min(data_t, axis=0)"
     ],
     "language": "python",
     "metadata": {},
     "outputs": [
      {
       "metadata": {},
       "output_type": "pyout",
       "prompt_number": 80,
       "text": [
        "array([ -2.52537614, -13.78119518, -10.79624864,  -1.93259152,\n",
        "        -3.17722605,  -1.84716844,  -1.73599389,   0.02      ])"
       ]
      }
     ],
     "prompt_number": 80
    },
    {
     "cell_type": "code",
     "collapsed": false,
     "input": [
      "np.max(data, axis=0)"
     ],
     "language": "python",
     "metadata": {},
     "outputs": [
      {
       "metadata": {},
       "output_type": "pyout",
       "prompt_number": 78,
       "text": [
        "array([ 6.33227183,  2.80007335,  1.66006042,  2.58977706,  0.59838029,\n",
        "        0.95823123,  0.19969287,  0.02      ])"
       ]
      }
     ],
     "prompt_number": 78
    },
    {
     "cell_type": "code",
     "collapsed": false,
     "input": [
      "np.min(data, axis=0)"
     ],
     "language": "python",
     "metadata": {},
     "outputs": [
      {
       "metadata": {},
       "output_type": "pyout",
       "prompt_number": 79,
       "text": [
        "array([-4.15610902, -4.74230673, -2.70932937, -1.40825075, -0.59322983,\n",
        "       -1.04171293, -0.20028642,  0.02      ])"
       ]
      }
     ],
     "prompt_number": 79
    },
    {
     "cell_type": "code",
     "collapsed": false,
     "input": [
      "# \n",
      "print data.shape\n",
      "np.mean(data, axis=0)"
     ],
     "language": "python",
     "metadata": {},
     "outputs": [
      {
       "output_type": "stream",
       "stream": "stdout",
       "text": [
        "(3746467, 8)\n"
       ]
      },
      {
       "metadata": {},
       "output_type": "pyout",
       "prompt_number": 81,
       "text": [
        "array([ -2.77155025e-14,  -5.22033907e-15,   1.57145978e-15,\n",
        "         2.67213711e-14,   5.18563235e-16,  -1.61233702e-14,\n",
        "        -1.54880910e-16,   2.00000000e-02])"
       ]
      }
     ],
     "prompt_number": 81
    },
    {
     "cell_type": "code",
     "collapsed": false,
     "input": [
      "training(100000)"
     ],
     "language": "python",
     "metadata": {},
     "outputs": [
      {
       "output_type": "stream",
       "stream": "stdout",
       "text": [
        "Draw ANN done!\n"
       ]
      }
     ],
     "prompt_number": 111
    },
    {
     "cell_type": "code",
     "collapsed": false,
     "input": [
      "data_test, labels_test = load_data(2000, 10)\n",
      "X_mean = np.load('X_mean.npy')\n",
      "data_test = data_test - X_mean"
     ],
     "language": "python",
     "metadata": {},
     "outputs": [],
     "prompt_number": 108
    },
    {
     "cell_type": "code",
     "collapsed": false,
     "input": [
      "X_mean"
     ],
     "language": "python",
     "metadata": {},
     "outputs": [
      {
       "metadata": {},
       "output_type": "pyout",
       "prompt_number": 109,
       "text": [
        "array([  6.77686160e-01,  -6.71038477e-02,  -5.98112174e-02,\n",
        "         4.08580666e-01,  -4.74019471e-03,   4.17476859e-02,\n",
        "         3.07068549e-04,   2.00000000e-02])"
       ]
      }
     ],
     "prompt_number": 109
    },
    {
     "cell_type": "code",
     "collapsed": false,
     "input": [
      "out = get_predicted_outputs('toycar_2fc_deploy.prototxt', '2fc_iter_100000.caffemodel', data_test)\n",
      "print out\n",
      "print labels_test"
     ],
     "language": "python",
     "metadata": {},
     "outputs": [
      {
       "output_type": "stream",
       "stream": "stdout",
       "text": [
        "Input: \n",
        "[[ -3.64194984e-01   6.46736133e-02   4.02162041e-02   3.44202331e-01\n",
        "   -9.14986048e-02   3.01862336e-01  -1.59237540e-01   7.23116012e-13]\n",
        " [ -3.49157000e-01   6.43697162e-02   3.87440613e-02   3.51074531e-01\n",
        "   -9.46772142e-02   3.01862336e-01  -1.59237540e-01   7.23116012e-13]\n",
        " [ -3.33987528e-01   6.40404312e-02   3.72102935e-02   3.57946732e-01\n",
        "   -9.78558237e-02   3.01862336e-01  -1.59237540e-01   7.23116012e-13]\n",
        " [ -3.18686873e-01   6.36844209e-02   3.56140468e-02   3.64818932e-01\n",
        "   -1.01034433e-01   3.01862336e-01  -1.59237540e-01   7.23116012e-13]\n",
        " [ -3.03255352e-01   6.33003119e-02   3.39544682e-02   3.71691132e-01\n",
        "   -1.04213043e-01   3.01862336e-01  -1.59237540e-01   7.23116012e-13]\n",
        " [ -2.87693290e-01   6.28866940e-02   3.22307059e-02   3.78563333e-01\n",
        "   -1.07391652e-01   3.01862336e-01  -1.59237540e-01   7.23116012e-13]\n",
        " [ -2.72001027e-01   6.24421202e-02   3.04419086e-02   3.85435533e-01\n",
        "   -1.10570261e-01   3.01862336e-01  -1.59237540e-01   7.23116012e-13]\n",
        " [ -2.56178911e-01   6.19651066e-02   2.85872265e-02   3.92307734e-01\n",
        "   -1.13748871e-01   3.01862336e-01  -1.59237540e-01   7.23116012e-13]\n",
        " [ -2.40227305e-01   6.14541317e-02   2.66658104e-02   3.99179934e-01\n",
        "   -1.16927480e-01   3.01862336e-01  -1.59237540e-01   7.23116012e-13]\n",
        " [ -2.24146583e-01   6.09076366e-02   2.46768122e-02   4.06052135e-01\n",
        "   -1.20106090e-01   3.01862336e-01  -1.59237540e-01   7.23116012e-13]]\n",
        "[array([[ 0.14842412, -0.01014003, -0.03967971,  0.56031811, -0.02128098],\n",
        "       [ 0.17216527, -0.01034965, -0.04004394,  0.56423235, -0.02165647],\n",
        "       [ 0.19629729, -0.01051818, -0.04046579,  0.56831503, -0.02212953],\n",
        "       [ 0.22064424, -0.01067268, -0.04089803,  0.57256502, -0.02258135],\n",
        "       [ 0.24505883, -0.01083487, -0.04128287,  0.57664764, -0.02303304],\n",
        "       [ 0.26961029, -0.01091354, -0.04161183,  0.58054274, -0.0235335 ],\n",
        "       [ 0.29503921, -0.01100685, -0.04183852,  0.58472669, -0.02404289],\n",
        "       [ 0.32030407, -0.01106584, -0.04207933,  0.58874315, -0.02442772],\n",
        "       [ 0.34553489, -0.01116606, -0.04234732,  0.59262735, -0.02478862],\n",
        "       [ 0.37067896, -0.01126792, -0.04265552,  0.59641284, -0.02516622]], dtype=float32)]\n",
        "[[ 0.32852915 -0.00273413 -0.02106716  0.75965518 -0.09941741]\n",
        " [ 0.34369862 -0.00306342 -0.02260092  0.76652741 -0.10259601]\n",
        " [ 0.35899928 -0.00341943 -0.02419717  0.77339959 -0.10577463]\n",
        " [ 0.37443081 -0.00380354 -0.02585675  0.78027183 -0.10895324]\n",
        " [ 0.38999286 -0.00421715 -0.02758051  0.78714401 -0.11213185]\n",
        " [ 0.40568513 -0.00466173 -0.02936931  0.79401618 -0.11531045]\n",
        " [ 0.42150724 -0.00513874 -0.03122399  0.80088842 -0.11848906]\n",
        " [ 0.43745884 -0.00564972 -0.03314541  0.8077606  -0.12166768]\n",
        " [ 0.45353958 -0.00619621 -0.0351344   0.81463277 -0.12484629]\n",
        " [ 0.46974903 -0.00677982 -0.03719183  0.82150501 -0.12802489]]\n"
       ]
      }
     ],
     "prompt_number": 113
    },
    {
     "cell_type": "code",
     "collapsed": false,
     "input": [
      "train_test_prototxt_filename = 'toycar_2fc_hdf5.prototxt'\n",
      "deploy_prototxt_filename  = 'toycar_2fc_deploy.prototxt'\n",
      "caffemodel_filename = '2fc_iter_100001.caffemodel' # generated by train() \n",
      "net = caffe.Net(train_test_prototxt_filename,caffemodel_filename, caffe.TEST)"
     ],
     "language": "python",
     "metadata": {},
     "outputs": [],
     "prompt_number": 28
    },
    {
     "cell_type": "code",
     "collapsed": false,
     "input": [
      "data, labels = load_data(200)\n",
      "data = np.resize(data, (10,8))\n",
      "labels = np.resize(labels, (10,5))\n",
      "\n",
      "net.blobs['data'].data[...] = data\n",
      "net.blobs['label'].data[...] = labels\n",
      "# net.blobs['label'].data[...] = labels"
     ],
     "language": "python",
     "metadata": {},
     "outputs": [],
     "prompt_number": 29
    },
    {
     "cell_type": "code",
     "collapsed": false,
     "input": [
      "testing(1000)"
     ],
     "language": "python",
     "metadata": {},
     "outputs": [
      {
       "output_type": "stream",
       "stream": "stdout",
       "text": [
        "Input: \n",
        "[[  1.30741967e-02   4.49452572e-06   8.59992945e-04   5.07222193e-02\n",
        "    9.44632162e-02   1.94149465e-01   1.17196867e-01   2.00000000e-02]]\n",
        "predictions: \n",
        "[[ 0.68539578 -0.06810683 -0.06026677  0.40926152 -0.00472403]]\n",
        "ground truths: \n",
        "[[  8.88240524e-03   1.11544739e-06   3.17442784e-04   3.08281556e-02\n",
        "    5.37478551e-02]]\n"
       ]
      }
     ],
     "prompt_number": 68
    },
    {
     "cell_type": "code",
     "collapsed": false,
     "input": [
      "print out"
     ],
     "language": "python",
     "metadata": {},
     "outputs": [
      {
       "output_type": "stream",
       "stream": "stdout",
       "text": [
        "{'loss': array(0.2908742129802704, dtype=float32)}\n"
       ]
      }
     ],
     "prompt_number": 31
    },
    {
     "cell_type": "code",
     "collapsed": false,
     "input": [
      "print labels"
     ],
     "language": "python",
     "metadata": {},
     "outputs": [
      {
       "output_type": "stream",
       "stream": "stdout",
       "text": [
        "[[  8.65216926e-02  -9.63747734e-05  -2.82733259e-03   4.15553898e-01\n",
        "   -4.92097959e-02]\n",
        " [  8.65216926e-02  -9.63747734e-05  -2.82733259e-03   4.15553898e-01\n",
        "   -4.92097959e-02]\n",
        " [  8.65216926e-02  -9.63747734e-05  -2.82733259e-03   4.15553898e-01\n",
        "   -4.92097959e-02]\n",
        " [  8.65216926e-02  -9.63747734e-05  -2.82733259e-03   4.15553898e-01\n",
        "   -4.92097959e-02]\n",
        " [  8.65216926e-02  -9.63747734e-05  -2.82733259e-03   4.15553898e-01\n",
        "   -4.92097959e-02]\n",
        " [  8.65216926e-02  -9.63747734e-05  -2.82733259e-03   4.15553898e-01\n",
        "   -4.92097959e-02]\n",
        " [  8.65216926e-02  -9.63747734e-05  -2.82733259e-03   4.15553898e-01\n",
        "   -4.92097959e-02]\n",
        " [  8.65216926e-02  -9.63747734e-05  -2.82733259e-03   4.15553898e-01\n",
        "   -4.92097959e-02]\n",
        " [  8.65216926e-02  -9.63747734e-05  -2.82733259e-03   4.15553898e-01\n",
        "   -4.92097959e-02]\n",
        " [  8.65216926e-02  -9.63747734e-05  -2.82733259e-03   4.15553898e-01\n",
        "   -4.92097959e-02]]\n"
       ]
      }
     ],
     "prompt_number": 32
    },
    {
     "cell_type": "code",
     "collapsed": false,
     "input": [
      "print net.blobs['fc3'].data"
     ],
     "language": "python",
     "metadata": {},
     "outputs": [
      {
       "output_type": "stream",
       "stream": "stdout",
       "text": [
        "[[ 0.65492922  0.03098195  0.02302835  0.32466719  0.04038212]\n",
        " [ 0.65492922  0.03098195  0.02302835  0.32466719  0.04038212]\n",
        " [ 0.65492922  0.03098195  0.02302835  0.32466719  0.04038212]\n",
        " [ 0.65492922  0.03098195  0.02302835  0.32466719  0.04038212]\n",
        " [ 0.65492922  0.03098195  0.02302835  0.32466719  0.04038212]\n",
        " [ 0.65492922  0.03098195  0.02302835  0.32466719  0.04038212]\n",
        " [ 0.65492922  0.03098195  0.02302835  0.32466719  0.04038212]\n",
        " [ 0.65492922  0.03098195  0.02302835  0.32466719  0.04038212]\n",
        " [ 0.65492922  0.03098195  0.02302835  0.32466719  0.04038212]\n",
        " [ 0.65492922  0.03098195  0.02302835  0.32466719  0.04038212]]\n"
       ]
      }
     ],
     "prompt_number": 33
    },
    {
     "cell_type": "code",
     "collapsed": false,
     "input": [
      "print data"
     ],
     "language": "python",
     "metadata": {},
     "outputs": [
      {
       "output_type": "stream",
       "stream": "stdout",
       "text": [
        "[[[[  0.00000000e+00]]\n",
        "\n",
        "  [[  0.00000000e+00]]\n",
        "\n",
        "  [[  0.00000000e+00]]\n",
        "\n",
        "  [[  0.00000000e+00]]\n",
        "\n",
        "  [[  0.00000000e+00]]\n",
        "\n",
        "  [[ -4.99790647e-01]]\n",
        "\n",
        "  [[  2.39952491e-02]]\n",
        "\n",
        "  [[  2.00000000e-02]]]\n",
        "\n",
        "\n",
        " [[[ -8.32984387e-05]]\n",
        "\n",
        "  [[  5.99378961e-13]]\n",
        "\n",
        "  [[ -1.99876682e-08]]\n",
        "\n",
        "  [[ -9.99581294e-03]]\n",
        "\n",
        "  [[  4.79904982e-04]]\n",
        "\n",
        "  [[ -4.99790647e-01]]\n",
        "\n",
        "  [[  2.39952491e-02]]\n",
        "\n",
        "  [[  2.00000000e-02]]]\n",
        "\n",
        "\n",
        " [[[ -3.66513070e-04]]\n",
        "\n",
        "  [[  2.72384365e-11]]\n",
        "\n",
        "  [[ -2.15866803e-07]]\n",
        "\n",
        "  [[ -1.99916259e-02]]\n",
        "\n",
        "  [[  9.59809963e-04]]\n",
        "\n",
        "  [[ -4.99790647e-01]]\n",
        "\n",
        "  [[  2.39952491e-02]]\n",
        "\n",
        "  [[  2.00000000e-02]]]\n",
        "\n",
        "\n",
        " [[[ -8.49643698e-04]]\n",
        "\n",
        "  [[  2.38419453e-10]]\n",
        "\n",
        "  [[ -7.79518923e-07]]\n",
        "\n",
        "  [[ -2.99874388e-02]]\n",
        "\n",
        "  [[  1.43971494e-03]]\n",
        "\n",
        "  [[ -4.99790647e-01]]\n",
        "\n",
        "  [[  2.39952491e-02]]\n",
        "\n",
        "  [[  2.00000000e-02]]]\n",
        "\n",
        "\n",
        " [[[ -1.53268999e-03]]\n",
        "\n",
        "  [[  1.07714906e-09]]\n",
        "\n",
        "  [[ -1.90282538e-06]]\n",
        "\n",
        "  [[ -3.99832517e-02]]\n",
        "\n",
        "  [[  1.91961993e-03]]\n",
        "\n",
        "  [[ -4.99790647e-01]]\n",
        "\n",
        "  [[  2.39952491e-02]]\n",
        "\n",
        "  [[  2.00000000e-02]]]\n",
        "\n",
        "\n",
        " [[[ -2.41565147e-03]]\n",
        "\n",
        "  [[  3.42437735e-09]]\n",
        "\n",
        "  [[ -3.77766726e-06]]\n",
        "\n",
        "  [[ -4.99790647e-02]]\n",
        "\n",
        "  [[  2.39952491e-03]]\n",
        "\n",
        "  [[ -4.99790647e-01]]\n",
        "\n",
        "  [[  2.39952491e-02]]\n",
        "\n",
        "  [[  2.00000000e-02]]]\n",
        "\n",
        "\n",
        " [[[ -3.49852754e-03]]\n",
        "\n",
        "  [[  8.75243516e-09]]\n",
        "\n",
        "  [[ -6.59592532e-06]]\n",
        "\n",
        "  [[ -5.99748776e-02]]\n",
        "\n",
        "  [[  2.87942989e-03]]\n",
        "\n",
        "  [[ -4.99790647e-01]]\n",
        "\n",
        "  [[  2.39952491e-02]]\n",
        "\n",
        "  [[  2.00000000e-02]]]\n",
        "\n",
        "\n",
        " [[[ -4.78131743e-03]]\n",
        "\n",
        "  [[  1.92784689e-08]]\n",
        "\n",
        "  [[ -1.05494799e-05]]\n",
        "\n",
        "  [[ -6.99706906e-02]]\n",
        "\n",
        "  [[  3.35933487e-03]]\n",
        "\n",
        "  [[ -4.99790647e-01]]\n",
        "\n",
        "  [[  2.39952491e-02]]\n",
        "\n",
        "  [[  2.00000000e-02]]]\n",
        "\n",
        "\n",
        " [[[ -6.26402027e-03]]\n",
        "\n",
        "  [[  3.81178723e-08]]\n",
        "\n",
        "  [[ -1.58302107e-05]]\n",
        "\n",
        "  [[ -7.99665035e-02]]\n",
        "\n",
        "  [[  3.83923985e-03]]\n",
        "\n",
        "  [[ -4.99790647e-01]]\n",
        "\n",
        "  [[  2.39952491e-02]]\n",
        "\n",
        "  [[  2.00000000e-02]]]\n",
        "\n",
        "\n",
        " [[[ -7.94663504e-03]]\n",
        "\n",
        "  [[  6.94377142e-08]]\n",
        "\n",
        "  [[ -2.26299969e-05]]\n",
        "\n",
        "  [[ -8.99623164e-02]]\n",
        "\n",
        "  [[  4.31914483e-03]]\n",
        "\n",
        "  [[ -4.99790647e-01]]\n",
        "\n",
        "  [[  2.39952491e-02]]\n",
        "\n",
        "  [[  2.00000000e-02]]]]\n"
       ]
      }
     ],
     "prompt_number": 45
    },
    {
     "cell_type": "code",
     "collapsed": false,
     "input": [],
     "language": "python",
     "metadata": {},
     "outputs": []
    }
   ],
   "metadata": {}
  }
 ]
}