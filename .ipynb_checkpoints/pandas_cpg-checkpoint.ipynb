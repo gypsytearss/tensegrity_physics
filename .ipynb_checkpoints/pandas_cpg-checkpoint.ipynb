{
 "cells": [
  {
   "cell_type": "code",
   "execution_count": 1,
   "metadata": {
    "collapsed": false
   },
   "outputs": [
    {
     "name": "stderr",
     "output_type": "stream",
     "text": [
      "/home/colin/anaconda2/lib/python2.7/site-packages/matplotlib/font_manager.py:273: UserWarning: Matplotlib is building the font cache using fc-list. This may take a moment.\n",
      "  warnings.warn('Matplotlib is building the font cache using fc-list. This may take a moment.')\n"
     ]
    },
    {
     "name": "stdout",
     "output_type": "stream",
     "text": [
      "warning in stationary: failed to import cython module: falling back to numpy\n"
     ]
    }
   ],
   "source": [
    "import os\n",
    "import matplotlib.cm as cmx\n",
    "from mpl_toolkits.mplot3d import Axes3D\n",
    "import matplotlib.pyplot as plt\n",
    "from IPython.display import display\n",
    "from mp_learning import snake_data\n",
    "import matplotlib\n",
    "import numpy as np\n",
    "import mpld3\n",
    "import pandas as pd\n",
    "from mpld3 import fig_to_html, plugins\n",
    "\n",
    "# mpld3.enable_notebook()\n",
    "\n",
    "import warnings\n",
    "warnings.filterwarnings('ignore')\n",
    "\n",
    "# %matplotlib inline\n",
    "\n",
    "FILEHOME = os.path.abspath(os.path.curdir)\n",
    "datapath = FILEHOME + '/data/cpg_setpoints_pd100.txt'\n",
    "\n",
    "# model = snake_data.Model(datapath, 'snake')"
   ]
  },
  {
   "cell_type": "code",
   "execution_count": 10,
   "metadata": {
    "collapsed": true
   },
   "outputs": [],
   "source": [
    "f = open(datapath,'r')\n",
    "temp = f.read()\n",
    "f.close()\n",
    "\n",
    "f = open(datapath, 'w')\n",
    "f.write(\"theta_0,theta_1,theta_2,theta_3,theta_4,theta_5\\n\")\n",
    "\n",
    "f.write(temp)\n",
    "f.close()"
   ]
  },
  {
   "cell_type": "code",
   "execution_count": 2,
   "metadata": {
    "collapsed": false
   },
   "outputs": [],
   "source": [
    "data = pd.read_csv(datapath)\n",
    "split = lambda x: x%2\n",
    "grouped = data.groupby(split) \n",
    "df_actual = grouped.get_group(0)\n",
    "df_des = grouped.get_group(1)\n",
    "# iterator = iter(df_actual)\n",
    "# i= next(iterator)\n",
    "# i= next(iterator)\n",
    "# i= next(iterator)\n",
    "# print df_actual.iloc[3,:]\n",
    "# print j"
   ]
  },
  {
   "cell_type": "code",
   "execution_count": 4,
   "metadata": {
    "collapsed": false
   },
   "outputs": [],
   "source": [
    "from matplotlib.animation import FuncAnimation\n",
    "\n",
    "# # read in the date and group it by the frame number\n",
    "# data = pd.read_csv('data2.csv', index_col=0)\n",
    "# grouped = data.groupby('QuivPlotNum')\n",
    "\n",
    "# set up the figure\n",
    "fig = plt.figure()\n",
    "ax = fig.add_subplot(1, 1, 1)\n",
    "ax.set_xlim(0, 25)\n",
    "ax.set_ylim(-2, 2)\n",
    "\n",
    "x_vals = [4,8,12,16,20,24]\n",
    "# create empty plot for the update function to manipulate\n",
    "plot = ax.plot(x_vals, df_actual.iloc[0,:])\n",
    "plot_d = ax.plot(x_vals, df_des.iloc[0,:])\n",
    "# create an iterator over the group, next() will return a tuple\n",
    "# of QuivPlotNum, DataFrame\n",
    "# i = 1\n",
    "\n",
    "def update(i):\n",
    "    # get next thing in the iterator\n",
    "#     key, data = next(iterator)\n",
    "    # set new x, y coordinates for the plot\n",
    "#     plot.set_offsets(np.column_stack([data.QuivXLoc, data.QuivYLoc]))\n",
    "    # update vector and color values\n",
    "#     plot.set_UVC(data.QuivXVal, data.QuivYVal, data.QuivColorVal)\n",
    "    print i\n",
    "#     fig.clear()\n",
    "#     ax = fig.add_subplot(1, 1, 1)\n",
    "#     ax.set_xlim(0, 25)\n",
    "#     ax.set_ylim(-2, 2)\n",
    "    plot.set_data(x_vals, df_actual.iloc[i,:])\n",
    "    plot_d.set_data(x_vals, df_des.iloc[i,:])\n",
    "#     i += 1\n",
    "\n",
    "# create the animation, update every 1000 ms\n",
    "ani = FuncAnimation(fig, update,frames=300, interval=10)\n",
    "\n",
    "# show it\n",
    "plt.show()"
   ]
  }
 ],
 "metadata": {
  "kernelspec": {
   "display_name": "Python 2",
   "language": "python",
   "name": "python2"
  },
  "language_info": {
   "codemirror_mode": {
    "name": "ipython",
    "version": 2
   },
   "file_extension": ".py",
   "mimetype": "text/x-python",
   "name": "python",
   "nbconvert_exporter": "python",
   "pygments_lexer": "ipython2",
   "version": "2.7.11"
  }
 },
 "nbformat": 4,
 "nbformat_minor": 0
}
