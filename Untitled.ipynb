{
 "cells": [
  {
   "cell_type": "code",
   "execution_count": 41,
   "metadata": {
    "collapsed": false
   },
   "outputs": [],
   "source": [
    "import os\n",
    "import numpy as np\n",
    "import GPy\n",
    "import random\n",
    "\n",
    "class GPRegression():\n",
    "    def __init__(self):\n",
    "        self.train_data = np.asarray([]).reshape((0,0))\n",
    "        self.train_labels = np.asarray([]).reshape((0,0))\n",
    "        self.prev_control = []\n",
    "        self.prev_end_state = []\n",
    "        self.model = []\n",
    "        self.iter_count = 0\n",
    "    \n",
    "    def add_and_optimize(self, new_data, new_label):\n",
    "        X, Y = [], []\n",
    "        print \"Adding: \", new_data, \"; \", new_label\n",
    "        if not self.train_data.shape[0] == 0:\n",
    "            X = np.concatenate((self.train_data, np.asarray(new_data).reshape((1,4))), axis=0)\n",
    "            Y = np.concatenate((self.train_labels, np.asarray(new_label).reshape((1,1))), axis=0)\n",
    "        else:\n",
    "            X = np.asarray(new_data).reshape((1,4))\n",
    "            Y = np.asarray(new_label).reshape((1,1))\n",
    "            rbf = GPy.kern.RBF(X.shape[1]) \n",
    "            self.model = GPy.models.GPRegression(X, Y, kernel=rbf)\n",
    "        self.train_data = X\n",
    "        self.train_labels = Y\n",
    "        \n",
    "        print \"Train Data: \"\n",
    "        print self.train_data\n",
    "        print self.train_labels\n",
    "\n",
    "        self.model.set_XY(X, Y)\n",
    "        self.model.optimize('tnc', messages=0, max_iters=500)\n",
    "\n",
    "    def test(self, data):\n",
    "        return self.model.predict(data)\n",
    "    \n",
    "    def add_iter(self):\n",
    "        self.iter_count += 1\n",
    "    \n",
    "    def get_max_variance(self):\n",
    "        controls_samp = np.concatenate(((np.asarray(random.sample([x / 10000.0 for x in range(10000)],1000)).reshape((1000,1))*0.6)+0.4,\n",
    "            (np.asarray(random.sample([x / 10000.0 for x in range(10000)],1000)).reshape((1000,1))*0.875)+0.125,\n",
    "            (np.asarray(random.sample([x / 10000.0 for x in range(10000)],1000)).reshape((1000,1))*0.8)+0.2,\n",
    "            (np.asarray(random.sample([x / 10000.0 for x in range(10000)],1000)).reshape((1000,1))*0.8)+0.2), axis=1)\n",
    "        pred, pred_var = self.test(controls_samp)\n",
    "        max_var = controls_samp[np.argmax(pred_var)]\n",
    "        return max_var\n",
    "\n",
    "\n",
    "def init_gp_model():\n",
    "    gp = GPRegression()\n",
    "    return gp\n",
    "\n",
    "\n",
    "def select_next_control():\n",
    "    # If first_iter, then select random control to propagate\n",
    "    if (gp.train_data.shape[0] == 0):\n",
    "        ctrl = np.concatenate(((np.asarray(random.sample([x / 10000.0 for x in range(10000)],1)).reshape((1,1))*0.6)+0.4,\n",
    "            (np.asarray(random.sample([x / 10000.0 for x in range(10000)],1)).reshape((1,1))*0.875)+0.125,\n",
    "            (np.asarray(random.sample([x / 10000.0 for x in range(10000)],1)).reshape((1,1))*0.8)+0.2,\n",
    "            (np.asarray(random.sample([x / 10000.0 for x in range(10000)],1)).reshape((1,1))*0.8)+0.2), axis=1)\n",
    "        ctrl = ctrl.tolist()[0]\n",
    "    # Else, oscillate between selecting (1) maximum variance point \n",
    "    #   or TODO: (2) potential maximum displacement point\n",
    "    else:\n",
    "    # Find maximum current variance in model\n",
    "        ctrl = gp.get_max_variance()\n",
    "    print \"Returning: \", ctrl\n",
    "    return ctrl\n",
    "\n",
    "def add_optimize(data, label):\n",
    "    gp.add_and_optimize(data, label)\n",
    "\n",
    "gp = init_gp_model()\n"
   ]
  },
  {
   "cell_type": "code",
   "execution_count": 42,
   "metadata": {
    "collapsed": false
   },
   "outputs": [
    {
     "name": "stdout",
     "output_type": "stream",
     "text": [
      "Adding:  [0.99232, 0.1628875, 0.95264, 0.91376] ;  0.4\n",
      "Train Data: \n",
      "[[ 0.99232    0.1628875  0.95264    0.91376  ]]\n",
      "[[ 0.4]]\n"
     ]
    }
   ],
   "source": [
    "gp.add_and_optimize([ 0.99232  ,  0.1628875,  0.95264  ,  0.91376  ],0.4)"
   ]
  },
  {
   "cell_type": "code",
   "execution_count": 43,
   "metadata": {
    "collapsed": false
   },
   "outputs": [
    {
     "name": "stdout",
     "output_type": "stream",
     "text": [
      "second\n",
      "Returning:  [ 0.51508    0.9845125  0.20168    0.34624  ]\n"
     ]
    },
    {
     "data": {
      "text/plain": [
       "array([ 0.51508  ,  0.9845125,  0.20168  ,  0.34624  ])"
      ]
     },
     "execution_count": 43,
     "metadata": {},
     "output_type": "execute_result"
    }
   ],
   "source": [
    "select_next_control()"
   ]
  },
  {
   "cell_type": "code",
   "execution_count": 44,
   "metadata": {
    "collapsed": false
   },
   "outputs": [
    {
     "data": {
      "text/plain": [
       "array([ 0.45166 ,  0.972875,  0.32104 ,  0.22048 ])"
      ]
     },
     "execution_count": 44,
     "metadata": {},
     "output_type": "execute_result"
    }
   ],
   "source": [
    "gp.get_max_variance()"
   ]
  },
  {
   "cell_type": "code",
   "execution_count": 11,
   "metadata": {
    "collapsed": false
   },
   "outputs": [
    {
     "data": {
      "text/plain": [
       "array([[ 0.499    ,  0.970425 ,  0.29384  ,  0.3212   ],\n",
       "       [ 0.99232  ,  0.1628875,  0.95264  ,  0.91376  ]])"
      ]
     },
     "execution_count": 11,
     "metadata": {},
     "output_type": "execute_result"
    }
   ],
   "source": [
    "gp.train_data"
   ]
  }
 ],
 "metadata": {
  "kernelspec": {
   "display_name": "Python 2",
   "language": "python",
   "name": "python2"
  }
 },
 "nbformat": 4,
 "nbformat_minor": 0
}
