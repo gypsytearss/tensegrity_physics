{
 "metadata": {
  "name": ""
 },
 "nbformat": 3,
 "nbformat_minor": 0,
 "worksheets": [
  {
   "cells": [
    {
     "cell_type": "code",
     "collapsed": false,
     "input": [
      "import numpy as np\n",
      "import lmdb\n",
      "import caffe\n",
      "\n",
      "start_states, controls, durations, end_states = [], [], [], [] \n",
      "\n",
      "with open('data_output_50Hz.txt', 'r') as infile:\n",
      "    data = infile.readlines()\n",
      "    \n",
      "    idx, i = 0, 0\n",
      "    \n",
      "    for line in data:\n",
      "        # Stop at end of file\n",
      "        if line == '':\n",
      "            break\n",
      "            \n",
      "        # Reset and continue at Trajectory break\n",
      "        if len(line) == 1:\n",
      "            start_states.pop()\n",
      "            i = 0\n",
      "            continue\n",
      "            \n",
      "        # Split Values in line and append to individual lists\n",
      "        vals = line.split(',')\n",
      "        if i % 3 == 0:\n",
      "            start_states.append([float(val) for val in vals])\n",
      "            if i != 0:\n",
      "                end_states.append([float(val) for val in vals])\n",
      "        elif i % 3 == 1:\n",
      "            controls.append([float(val) for val in vals])\n",
      "        elif i % 3 == 2:\n",
      "            durations.append([float(val) for val in vals])\n",
      "            \n",
      "        i += 1\n",
      "        \n",
      "X = np.concatenate((start_states, controls, durations), axis=1)\n",
      "y = np.asarray(end_states, dtype=np.float64)\n",
      "            \n"
     ],
     "language": "python",
     "metadata": {},
     "outputs": [],
     "prompt_number": 2
    },
    {
     "cell_type": "code",
     "collapsed": false,
     "input": [
      "np.max(X, axis=0)\n",
      "np.min(X, axis=0)"
     ],
     "language": "python",
     "metadata": {},
     "outputs": [
      {
       "metadata": {},
       "output_type": "pyout",
       "prompt_number": 11,
       "text": [
        "array([-3.47842286, -4.80941058, -2.76914059, -0.99967008, -0.59797003,\n",
        "       -0.99996524, -0.19997935,  0.02      ])"
       ]
      }
     ],
     "prompt_number": 11
    },
    {
     "cell_type": "code",
     "collapsed": false,
     "input": [
      "# First, we create an LMDB file output for the raw data\n",
      "map_size = X.nbytes * 10\n",
      "\n",
      "env = lmdb.open('toycar_data', map_size=map_size)\n",
      "\n",
      "with env.begin(write=True) as txn:\n",
      "    # txn is a Transaction object\n",
      "    for i in range(N):\n",
      "        datum = caffe.proto.caffe_pb2.Datum()\n",
      "        datum.channels = X.shape[1]\n",
      "        datum.height = 1\n",
      "        datum.width = 1\n",
      "        datum.data = X[i].tostring()  # or .tostring() if numpy < 1.9\n",
      "        \n",
      "        str_id = '{:08}'.format(i)\n",
      "\n",
      "        # The encode is only essential in Python 3\n",
      "        txn.put(str_id, datum.SerializeToString())\n",
      "        \n"
     ],
     "language": "python",
     "metadata": {},
     "outputs": [],
     "prompt_number": 58
    },
    {
     "cell_type": "code",
     "collapsed": false,
     "input": [
      "# Next, we create an LMDB file output for the 2D labels\n",
      "map_size = y.nbytes * 10\n",
      "\n",
      "env = lmdb.open('toycar_labels', map_size=map_size)\n",
      "\n",
      "with env.begin(write=True) as txn:\n",
      "    # txn is a Transaction object\n",
      "    for i in range(N):\n",
      "        datum = caffe.proto.caffe_pb2.Datum()\n",
      "        datum.channels = y.shape[1]\n",
      "        datum.height = 1\n",
      "        datum.width = 1\n",
      "        datum.data = y[i].tostring()  # or .tostring() if numpy < 1.9\n",
      "        \n",
      "        str_id = '{:08}'.format(i)\n",
      "\n",
      "        # The encode is only essential in Python 3\n",
      "        txn.put(str_id, datum.SerializeToString())\n",
      "        \n"
     ],
     "language": "python",
     "metadata": {},
     "outputs": [],
     "prompt_number": 59
    },
    {
     "cell_type": "code",
     "collapsed": false,
     "input": [],
     "language": "python",
     "metadata": {},
     "outputs": []
    }
   ],
   "metadata": {}
  }
 ]
}